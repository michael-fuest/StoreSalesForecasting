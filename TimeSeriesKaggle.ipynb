{
 "cells": [
  {
   "cell_type": "markdown",
   "metadata": {
    "_cell_guid": "6cb324dc-eb25-4af1-84d8-441f1ae90160",
    "_uuid": "802924ef-daa7-4574-8b5a-0b43be60e9dc",
    "trusted": true
   },
   "source": [
    "# Introduction\n",
    "\n",
    "**Description**\n",
    "\n",
    "In this time-series 'getting-started' competition, we are asked to forecast store sales on data from Corporación Favorita, a large Ecuadorian-based grocery retailer. We need a model that can predict unit sales for thousands of items sold at different stores.\n",
    "For this competition we have different datasets describing sales, stores, holiday data and more between 2013 and 2017 in Ecuador.\n",
    "\n",
    "**Goal**\n",
    "\n",
    "To predict the sales **per product, per store** **for the next 16 days.**\n",
    "\n",
    "**Metric**\n",
    "\n",
    "The evaluation metric used for this competition is\n",
    "**Root-Mean-Squared-Logarithmic-Error** (**RMSLE**). (Taking logs means that errors in predicting big salesnumbers and smaller salesnumbers will affect the result more evenly.)"
   ]
  },
  {
   "cell_type": "code",
   "execution_count": 1,
   "metadata": {
    "ExecuteTime": {
     "end_time": "2023-10-27T17:15:10.848456Z",
     "start_time": "2023-10-27T17:15:10.840947Z"
    },
    "_cell_guid": "a7b3beea-ad0c-4712-865e-3eabdb2d62e3",
    "_uuid": "1cc579d3-0e02-4a74-84db-a01ada83460b",
    "collapsed": false,
    "trusted": true
   },
   "outputs": [],
   "source": [
    "import numpy as np\n",
    "import pandas as pd\n",
    "import random\n",
    "import datetime as dt\n",
    "import seaborn as sns\n",
    "from re import search\n",
    "\n",
    "random.seed(333)\n",
    "pd.options.mode.chained_assignment = None\n",
    "\n",
    "import os\n",
    "for dirname, _, filenames in os.walk('/kaggle/input'):\n",
    "    for filename in filenames:\n",
    "        print(os.path.join(dirname, filename))"
   ]
  },
  {
   "cell_type": "markdown",
   "metadata": {
    "_cell_guid": "021aa771-ddf7-42a3-ad01-b8a0414b82b2",
    "_uuid": "19fa2f32-43fd-4d9f-88bd-1d67e7c47446",
    "trusted": true
   },
   "source": [
    "# 1. Exploratory Data Analysis:\n",
    "\n",
    "# 1.1 Dataframes & NAs"
   ]
  },
  {
   "cell_type": "markdown",
   "metadata": {
    "_cell_guid": "d6851dd8-906f-4695-b9c9-b41a9cfefdb1",
    "_uuid": "cffe6111-2583-4bb0-842e-33e85ebde57e",
    "trusted": true
   },
   "source": [
    "As a first step of the EDA we would like to know what our data looks like, and if there are any NAs in the dataset.\n",
    "\n",
    "We have different data sets to our disposal:\n",
    "\n",
    "- **holiday_events**: a list with all ecuadorian holidays and events;\n",
    "- **oil**: a list of oilprices meant to serve as an economic indicator of Ecuador;\n",
    "- **stores**: a dataset with information about our stores: includes city, state, type and others;\n",
    "- **transactions**: a dataset containing the number of aggregated transactions for each store on each day;\n",
    "- **test**: general testset of 16 days of sales we will need to predict;\n",
    "- **train**: a huge trainset with about 4 years of data to predict our test sales data.\n",
    "\n",
    "This notebook makes use of all datasets except for the oilprices as on the surface it didn't seem to give any improvement in the modelling results. This could potentially be added in a future update of this notebook if it does happen to be useful."
   ]
  },
  {
   "cell_type": "code",
   "execution_count": 4,
   "metadata": {
    "_cell_guid": "b84a9153-bc4d-4f1b-82fc-060f490ec0ff",
    "_uuid": "071cc3ce-b2b0-4956-b976-04297d8e50a3",
    "collapsed": false,
    "trusted": true
   },
   "outputs": [
    {
     "name": "stdout",
     "output_type": "stream",
     "text": [
      "<class 'pandas.core.frame.DataFrame'>\n",
      "RangeIndex: 3000888 entries, 0 to 3000887\n",
      "Data columns (total 6 columns):\n",
      " #   Column       Dtype  \n",
      "---  ------       -----  \n",
      " 0   id           int64  \n",
      " 1   date         object \n",
      " 2   store_nbr    int64  \n",
      " 3   family       object \n",
      " 4   sales        float64\n",
      " 5   onpromotion  int64  \n",
      "dtypes: float64(1), int64(3), object(2)\n",
      "memory usage: 137.4+ MB\n",
      "None\n"
     ]
    },
    {
     "data": {
      "text/plain": [
       "id             False\n",
       "date           False\n",
       "store_nbr      False\n",
       "family         False\n",
       "sales          False\n",
       "onpromotion    False\n",
       "dtype: bool"
      ]
     },
     "execution_count": 4,
     "metadata": {},
     "output_type": "execute_result"
    }
   ],
   "source": [
    "# Read train/test data and check colnames & NA's:\n",
    "\n",
    "original_train = pd.read_csv('data/train.csv')\n",
    "original_test = pd.read_csv('data/test.csv')\n",
    "\n",
    "# Dataframe info:\n",
    "print(original_train.info())\n",
    "\n",
    "# Check NAs:\n",
    "original_train.isna().any()"
   ]
  },
  {
   "cell_type": "markdown",
   "metadata": {
    "_cell_guid": "42cdbbeb-040c-4814-ad90-5584b896cbbc",
    "_uuid": "9cc38d0d-8941-4e89-937c-83ac29d19f7a",
    "trusted": true
   },
   "source": [
    "We have ID, date, store number, (product) family, saleprice and promotion columns.\n",
    "Our train and test datasets have zero missing values."
   ]
  },
  {
   "cell_type": "code",
   "execution_count": 5,
   "metadata": {
    "_cell_guid": "7c20c8cb-4e83-44d7-a186-b4bcf698e544",
    "_uuid": "c5335547-467f-4fa4-9e82-e307a843eef8",
    "collapsed": false,
    "trusted": true
   },
   "outputs": [
    {
     "data": {
      "text/plain": [
       "'2017-08-31'"
      ]
     },
     "execution_count": 5,
     "metadata": {},
     "output_type": "execute_result"
    }
   ],
   "source": [
    "# Find out how many stores, products and dates are in our data:\n",
    "\n",
    "original_train['store_nbr'].unique().__len__() # 54 stores\n",
    "original_train['family'].unique().__len__() # 33 products\n",
    "\n",
    "len(original_train) / 54 / 33 # 1684 days (between 4 and 5 years)\n",
    "original_train['date'].iloc[0] # 2013-01-01 is start\n",
    "original_train['date'].iloc[-1] # 2017-08-15 is end\n",
    "\n",
    "len(original_test) / 54 / 33 # 16 days\n",
    "original_test['date'].iloc[0] # 2017-08-16 is test start\n",
    "original_test['date'].iloc[-1] # 2017-08-31 is test end"
   ]
  },
  {
   "cell_type": "markdown",
   "metadata": {
    "_cell_guid": "08f96d39-3db6-4f66-9400-25193b189d65",
    "_uuid": "dd32c68a-3491-4a60-9dd6-1b473825ece5",
    "trusted": true
   },
   "source": [
    "Our main datasets consist of:\n",
    "\n",
    "- **54 stores**\n",
    "\n",
    "- **33 productgroups**\n",
    "\n",
    "\n",
    "We are asked to predict the sales for each productgroup (33), at each store (54) during 16 consecutive days.\n",
    "This means we will have to do 33 * 54 * 16 = 28512 predictions. To make this more manageable, we can create a dataframe and predictions for each individual productgroup. This means we will create 33 dataframes that each do 864 predictions.\n",
    "\n",
    "For faster runtime and better oversight we will first create different dataframes that we then merge together through a pipeline into 33 individual product dataframes."
   ]
  },
  {
   "cell_type": "markdown",
   "metadata": {
    "_cell_guid": "6523186a-aab0-4498-bbc0-4aa58d02cded",
    "_uuid": "75cd9916-e55a-4bdf-90ed-00845d07cfc3",
    "trusted": true
   },
   "source": [
    "# 1.2 Visualization"
   ]
  },
  {
   "cell_type": "markdown",
   "metadata": {
    "_cell_guid": "e53c084a-3375-4c98-9a2b-1d3be81ade7a",
    "_uuid": "700a637f-cc8b-4bf8-a9d8-58d703919067",
    "trusted": true
   },
   "source": [
    "Since we are going to create a dataframe per product, it is best to create a graph to see the sales evolution for each family over the years. We want the sum of sales for each month, for each year, for each family, so we aggregate accordingly."
   ]
  },
  {
   "cell_type": "code",
   "execution_count": 6,
   "metadata": {
    "_cell_guid": "f9b51e3b-008b-484c-a5fc-7f07d337698d",
    "_uuid": "4418d94f-52b7-4069-be11-867e21eb2abe",
    "collapsed": false,
    "trusted": true
   },
   "outputs": [
    {
     "ename": "TypeError",
     "evalue": "ufunc 'isfinite' not supported for the input types, and the inputs could not be safely coerced to any supported types according to the casting rule ''safe''",
     "output_type": "error",
     "traceback": [
      "\u001b[0;31m---------------------------------------------------------------------------\u001b[0m",
      "\u001b[0;31mTypeError\u001b[0m                                 Traceback (most recent call last)",
      "Cell \u001b[0;32mIn[6], line 16\u001b[0m\n\u001b[1;32m     13\u001b[0m \u001b[39m# We use seaborn's FacetGrid with a col_wrap of 3 to show all the graphs in rows of three.\u001b[39;00m\n\u001b[1;32m     14\u001b[0m \u001b[39m# We also need sharey = False so that the y axis of all the graphs is not shared but individual.\u001b[39;00m\n\u001b[1;32m     15\u001b[0m product_lineplots \u001b[39m=\u001b[39m sns\u001b[39m.\u001b[39mFacetGrid(monthly_sales, col\u001b[39m=\u001b[39m\u001b[39m\"\u001b[39m\u001b[39mfamily\u001b[39m\u001b[39m\"\u001b[39m, hue\u001b[39m=\u001b[39m\u001b[39m'\u001b[39m\u001b[39myear\u001b[39m\u001b[39m'\u001b[39m, sharey\u001b[39m=\u001b[39m\u001b[39mFalse\u001b[39;00m, height\u001b[39m=\u001b[39m\u001b[39m3.5\u001b[39m, col_wrap\u001b[39m=\u001b[39m\u001b[39m3\u001b[39m, palette\u001b[39m=\u001b[39m\u001b[39m'\u001b[39m\u001b[39mrocket_r\u001b[39m\u001b[39m'\u001b[39m)\n\u001b[0;32m---> 16\u001b[0m product_lineplots\u001b[39m.\u001b[39;49mmap(sns\u001b[39m.\u001b[39;49mlineplot, \u001b[39m\"\u001b[39;49m\u001b[39mmonth\u001b[39;49m\u001b[39m\"\u001b[39;49m, \u001b[39m'\u001b[39;49m\u001b[39msales\u001b[39;49m\u001b[39m'\u001b[39;49m)\n\u001b[1;32m     17\u001b[0m product_lineplots\u001b[39m.\u001b[39madd_legend()\n\u001b[1;32m     18\u001b[0m product_lineplots\u001b[39m.\u001b[39mset(xlim\u001b[39m=\u001b[39m(\u001b[39m1\u001b[39m, \u001b[39m12\u001b[39m), ylim\u001b[39m=\u001b[39m(\u001b[39m0\u001b[39m, \u001b[39mNone\u001b[39;00m), xticks\u001b[39m=\u001b[39m[\u001b[39m1\u001b[39m, \u001b[39m2\u001b[39m, \u001b[39m3\u001b[39m, \u001b[39m4\u001b[39m, \u001b[39m5\u001b[39m, \u001b[39m6\u001b[39m, \u001b[39m7\u001b[39m, \u001b[39m8\u001b[39m, \u001b[39m9\u001b[39m, \u001b[39m10\u001b[39m, \u001b[39m11\u001b[39m, \u001b[39m12\u001b[39m])\n",
      "File \u001b[0;32m/opt/homebrew/lib/python3.9/site-packages/seaborn/axisgrid.py:752\u001b[0m, in \u001b[0;36mFacetGrid.map\u001b[0;34m(self, func, *args, **kwargs)\u001b[0m\n\u001b[1;32m    749\u001b[0m         plot_args \u001b[39m=\u001b[39m [v\u001b[39m.\u001b[39mvalues \u001b[39mfor\u001b[39;00m v \u001b[39min\u001b[39;00m plot_args]\n\u001b[1;32m    751\u001b[0m     \u001b[39m# Draw the plot\u001b[39;00m\n\u001b[0;32m--> 752\u001b[0m     \u001b[39mself\u001b[39;49m\u001b[39m.\u001b[39;49m_facet_plot(func, ax, plot_args, kwargs)\n\u001b[1;32m    754\u001b[0m \u001b[39m# Finalize the annotations and layout\u001b[39;00m\n\u001b[1;32m    755\u001b[0m \u001b[39mself\u001b[39m\u001b[39m.\u001b[39m_finalize_grid(args[:\u001b[39m2\u001b[39m])\n",
      "File \u001b[0;32m/opt/homebrew/lib/python3.9/site-packages/seaborn/axisgrid.py:848\u001b[0m, in \u001b[0;36mFacetGrid._facet_plot\u001b[0;34m(self, func, ax, plot_args, plot_kwargs)\u001b[0m\n\u001b[1;32m    846\u001b[0m     plot_args \u001b[39m=\u001b[39m []\n\u001b[1;32m    847\u001b[0m     plot_kwargs[\u001b[39m\"\u001b[39m\u001b[39max\u001b[39m\u001b[39m\"\u001b[39m] \u001b[39m=\u001b[39m ax\n\u001b[0;32m--> 848\u001b[0m func(\u001b[39m*\u001b[39;49mplot_args, \u001b[39m*\u001b[39;49m\u001b[39m*\u001b[39;49mplot_kwargs)\n\u001b[1;32m    850\u001b[0m \u001b[39m# Sort out the supporting information\u001b[39;00m\n\u001b[1;32m    851\u001b[0m \u001b[39mself\u001b[39m\u001b[39m.\u001b[39m_update_legend_data(ax)\n",
      "File \u001b[0;32m/opt/homebrew/lib/python3.9/site-packages/seaborn/relational.py:645\u001b[0m, in \u001b[0;36mlineplot\u001b[0;34m(data, x, y, hue, size, style, units, palette, hue_order, hue_norm, sizes, size_order, size_norm, dashes, markers, style_order, estimator, errorbar, n_boot, seed, orient, sort, err_style, err_kws, legend, ci, ax, **kwargs)\u001b[0m\n\u001b[1;32m    642\u001b[0m color \u001b[39m=\u001b[39m kwargs\u001b[39m.\u001b[39mpop(\u001b[39m\"\u001b[39m\u001b[39mcolor\u001b[39m\u001b[39m\"\u001b[39m, kwargs\u001b[39m.\u001b[39mpop(\u001b[39m\"\u001b[39m\u001b[39mc\u001b[39m\u001b[39m\"\u001b[39m, \u001b[39mNone\u001b[39;00m))\n\u001b[1;32m    643\u001b[0m kwargs[\u001b[39m\"\u001b[39m\u001b[39mcolor\u001b[39m\u001b[39m\"\u001b[39m] \u001b[39m=\u001b[39m _default_color(ax\u001b[39m.\u001b[39mplot, hue, color, kwargs)\n\u001b[0;32m--> 645\u001b[0m p\u001b[39m.\u001b[39;49mplot(ax, kwargs)\n\u001b[1;32m    646\u001b[0m \u001b[39mreturn\u001b[39;00m ax\n",
      "File \u001b[0;32m/opt/homebrew/lib/python3.9/site-packages/seaborn/relational.py:489\u001b[0m, in \u001b[0;36m_LinePlotter.plot\u001b[0;34m(self, ax, kws)\u001b[0m\n\u001b[1;32m    486\u001b[0m \u001b[39mif\u001b[39;00m \u001b[39mself\u001b[39m\u001b[39m.\u001b[39merr_style \u001b[39m==\u001b[39m \u001b[39m\"\u001b[39m\u001b[39mband\u001b[39m\u001b[39m\"\u001b[39m:\n\u001b[1;32m    488\u001b[0m     func \u001b[39m=\u001b[39m {\u001b[39m\"\u001b[39m\u001b[39mx\u001b[39m\u001b[39m\"\u001b[39m: ax\u001b[39m.\u001b[39mfill_between, \u001b[39m\"\u001b[39m\u001b[39my\u001b[39m\u001b[39m\"\u001b[39m: ax\u001b[39m.\u001b[39mfill_betweenx}[orient]\n\u001b[0;32m--> 489\u001b[0m     func(\n\u001b[1;32m    490\u001b[0m         sub_data[orient],\n\u001b[1;32m    491\u001b[0m         sub_data[\u001b[39mf\u001b[39;49m\u001b[39m\"\u001b[39;49m\u001b[39m{\u001b[39;49;00mother\u001b[39m}\u001b[39;49;00m\u001b[39mmin\u001b[39;49m\u001b[39m\"\u001b[39;49m], sub_data[\u001b[39mf\u001b[39;49m\u001b[39m\"\u001b[39;49m\u001b[39m{\u001b[39;49;00mother\u001b[39m}\u001b[39;49;00m\u001b[39mmax\u001b[39;49m\u001b[39m\"\u001b[39;49m],\n\u001b[1;32m    492\u001b[0m         color\u001b[39m=\u001b[39;49mline_color, \u001b[39m*\u001b[39;49m\u001b[39m*\u001b[39;49merr_kws\n\u001b[1;32m    493\u001b[0m     )\n\u001b[1;32m    495\u001b[0m \u001b[39melif\u001b[39;00m \u001b[39mself\u001b[39m\u001b[39m.\u001b[39merr_style \u001b[39m==\u001b[39m \u001b[39m\"\u001b[39m\u001b[39mbars\u001b[39m\u001b[39m\"\u001b[39m:\n\u001b[1;32m    497\u001b[0m     error_param \u001b[39m=\u001b[39m {\n\u001b[1;32m    498\u001b[0m         \u001b[39mf\u001b[39m\u001b[39m\"\u001b[39m\u001b[39m{\u001b[39;00mother\u001b[39m}\u001b[39;00m\u001b[39merr\u001b[39m\u001b[39m\"\u001b[39m: (\n\u001b[1;32m    499\u001b[0m             sub_data[other] \u001b[39m-\u001b[39m sub_data[\u001b[39mf\u001b[39m\u001b[39m\"\u001b[39m\u001b[39m{\u001b[39;00mother\u001b[39m}\u001b[39;00m\u001b[39mmin\u001b[39m\u001b[39m\"\u001b[39m],\n\u001b[1;32m    500\u001b[0m             sub_data[\u001b[39mf\u001b[39m\u001b[39m\"\u001b[39m\u001b[39m{\u001b[39;00mother\u001b[39m}\u001b[39;00m\u001b[39mmax\u001b[39m\u001b[39m\"\u001b[39m] \u001b[39m-\u001b[39m sub_data[other],\n\u001b[1;32m    501\u001b[0m         )\n\u001b[1;32m    502\u001b[0m     }\n",
      "File \u001b[0;32m/opt/homebrew/lib/python3.9/site-packages/matplotlib/__init__.py:1423\u001b[0m, in \u001b[0;36m_preprocess_data.<locals>.inner\u001b[0;34m(ax, data, *args, **kwargs)\u001b[0m\n\u001b[1;32m   1420\u001b[0m \u001b[39m@functools\u001b[39m\u001b[39m.\u001b[39mwraps(func)\n\u001b[1;32m   1421\u001b[0m \u001b[39mdef\u001b[39;00m \u001b[39minner\u001b[39m(ax, \u001b[39m*\u001b[39margs, data\u001b[39m=\u001b[39m\u001b[39mNone\u001b[39;00m, \u001b[39m*\u001b[39m\u001b[39m*\u001b[39mkwargs):\n\u001b[1;32m   1422\u001b[0m     \u001b[39mif\u001b[39;00m data \u001b[39mis\u001b[39;00m \u001b[39mNone\u001b[39;00m:\n\u001b[0;32m-> 1423\u001b[0m         \u001b[39mreturn\u001b[39;00m func(ax, \u001b[39m*\u001b[39;49m\u001b[39mmap\u001b[39;49m(sanitize_sequence, args), \u001b[39m*\u001b[39;49m\u001b[39m*\u001b[39;49mkwargs)\n\u001b[1;32m   1425\u001b[0m     bound \u001b[39m=\u001b[39m new_sig\u001b[39m.\u001b[39mbind(ax, \u001b[39m*\u001b[39margs, \u001b[39m*\u001b[39m\u001b[39m*\u001b[39mkwargs)\n\u001b[1;32m   1426\u001b[0m     auto_label \u001b[39m=\u001b[39m (bound\u001b[39m.\u001b[39marguments\u001b[39m.\u001b[39mget(label_namer)\n\u001b[1;32m   1427\u001b[0m                   \u001b[39mor\u001b[39;00m bound\u001b[39m.\u001b[39mkwargs\u001b[39m.\u001b[39mget(label_namer))\n",
      "File \u001b[0;32m/opt/homebrew/lib/python3.9/site-packages/matplotlib/axes/_axes.py:5367\u001b[0m, in \u001b[0;36mAxes.fill_between\u001b[0;34m(self, x, y1, y2, where, interpolate, step, **kwargs)\u001b[0m\n\u001b[1;32m   5365\u001b[0m \u001b[39mdef\u001b[39;00m \u001b[39mfill_between\u001b[39m(\u001b[39mself\u001b[39m, x, y1, y2\u001b[39m=\u001b[39m\u001b[39m0\u001b[39m, where\u001b[39m=\u001b[39m\u001b[39mNone\u001b[39;00m, interpolate\u001b[39m=\u001b[39m\u001b[39mFalse\u001b[39;00m,\n\u001b[1;32m   5366\u001b[0m                  step\u001b[39m=\u001b[39m\u001b[39mNone\u001b[39;00m, \u001b[39m*\u001b[39m\u001b[39m*\u001b[39mkwargs):\n\u001b[0;32m-> 5367\u001b[0m     \u001b[39mreturn\u001b[39;00m \u001b[39mself\u001b[39;49m\u001b[39m.\u001b[39;49m_fill_between_x_or_y(\n\u001b[1;32m   5368\u001b[0m         \u001b[39m\"\u001b[39;49m\u001b[39mx\u001b[39;49m\u001b[39m\"\u001b[39;49m, x, y1, y2,\n\u001b[1;32m   5369\u001b[0m         where\u001b[39m=\u001b[39;49mwhere, interpolate\u001b[39m=\u001b[39;49minterpolate, step\u001b[39m=\u001b[39;49mstep, \u001b[39m*\u001b[39;49m\u001b[39m*\u001b[39;49mkwargs)\n",
      "File \u001b[0;32m/opt/homebrew/lib/python3.9/site-packages/matplotlib/axes/_axes.py:5272\u001b[0m, in \u001b[0;36mAxes._fill_between_x_or_y\u001b[0;34m(self, ind_dir, ind, dep1, dep2, where, interpolate, step, **kwargs)\u001b[0m\n\u001b[1;32m   5268\u001b[0m         kwargs[\u001b[39m\"\u001b[39m\u001b[39mfacecolor\u001b[39m\u001b[39m\"\u001b[39m] \u001b[39m=\u001b[39m \\\n\u001b[1;32m   5269\u001b[0m             \u001b[39mself\u001b[39m\u001b[39m.\u001b[39m_get_patches_for_fill\u001b[39m.\u001b[39mget_next_color()\n\u001b[1;32m   5271\u001b[0m \u001b[39m# Handle united data, such as dates\u001b[39;00m\n\u001b[0;32m-> 5272\u001b[0m ind, dep1, dep2 \u001b[39m=\u001b[39m \u001b[39mmap\u001b[39m(\n\u001b[1;32m   5273\u001b[0m     ma\u001b[39m.\u001b[39mmasked_invalid, \u001b[39mself\u001b[39m\u001b[39m.\u001b[39m_process_unit_info(\n\u001b[1;32m   5274\u001b[0m         [(ind_dir, ind), (dep_dir, dep1), (dep_dir, dep2)], kwargs))\n\u001b[1;32m   5276\u001b[0m \u001b[39mfor\u001b[39;00m name, array \u001b[39min\u001b[39;00m [\n\u001b[1;32m   5277\u001b[0m         (ind_dir, ind), (\u001b[39mf\u001b[39m\u001b[39m\"\u001b[39m\u001b[39m{\u001b[39;00mdep_dir\u001b[39m}\u001b[39;00m\u001b[39m1\u001b[39m\u001b[39m\"\u001b[39m, dep1), (\u001b[39mf\u001b[39m\u001b[39m\"\u001b[39m\u001b[39m{\u001b[39;00mdep_dir\u001b[39m}\u001b[39;00m\u001b[39m2\u001b[39m\u001b[39m\"\u001b[39m, dep2)]:\n\u001b[1;32m   5278\u001b[0m     \u001b[39mif\u001b[39;00m array\u001b[39m.\u001b[39mndim \u001b[39m>\u001b[39m \u001b[39m1\u001b[39m:\n",
      "File \u001b[0;32m/opt/homebrew/lib/python3.9/site-packages/numpy/ma/core.py:2360\u001b[0m, in \u001b[0;36mmasked_invalid\u001b[0;34m(a, copy)\u001b[0m\n\u001b[1;32m   2332\u001b[0m \u001b[39mdef\u001b[39;00m \u001b[39mmasked_invalid\u001b[39m(a, copy\u001b[39m=\u001b[39m\u001b[39mTrue\u001b[39;00m):\n\u001b[1;32m   2333\u001b[0m     \u001b[39m\"\"\"\u001b[39;00m\n\u001b[1;32m   2334\u001b[0m \u001b[39m    Mask an array where invalid values occur (NaNs or infs).\u001b[39;00m\n\u001b[1;32m   2335\u001b[0m \n\u001b[0;32m   (...)\u001b[0m\n\u001b[1;32m   2357\u001b[0m \n\u001b[1;32m   2358\u001b[0m \u001b[39m    \"\"\"\u001b[39;00m\n\u001b[0;32m-> 2360\u001b[0m     \u001b[39mreturn\u001b[39;00m masked_where(\u001b[39m~\u001b[39m(np\u001b[39m.\u001b[39;49misfinite(getdata(a))), a, copy\u001b[39m=\u001b[39mcopy)\n",
      "\u001b[0;31mTypeError\u001b[0m: ufunc 'isfinite' not supported for the input types, and the inputs could not be safely coerced to any supported types according to the casting rule ''safe''"
     ]
    },
    {
     "data": {
      "image/png": "[encoded data removed]",
      "text/plain": [
       "<Figure size 1050x3850 with 33 Axes>"
      ]
     },
     "metadata": {},
     "output_type": "display_data"
    }
   ],
   "source": [
    "original_train['date'] = pd.to_datetime(original_train['date'])\n",
    "original_train['year'] = original_train['date'].dt.year\n",
    "original_train['month'] = original_train['date'].dt.month\n",
    "\n",
    "monthly_sales = original_train.groupby(['family', 'year','month']).agg({\"sales\" : \"sum\"}).reset_index()\n",
    "\n",
    "# The value of the last month (for each 33 products) we change to nan, as otherwise it will distort\n",
    "# the graph since this month's data is incomplete:\n",
    "for x in range(33):\n",
    "    z = 55+(x*56)\n",
    "    monthly_sales.at[z,'sales'] = np.nan \n",
    "\n",
    "# We use seaborn's FacetGrid with a col_wrap of 3 to show all the graphs in rows of three.\n",
    "# We also need sharey = False so that the y axis of all the graphs is not shared but individual.\n",
    "product_lineplots = sns.FacetGrid(monthly_sales, col=\"family\", hue='year', sharey=False, height=3.5, col_wrap=3, palette='rocket_r')\n",
    "product_lineplots.map(sns.lineplot, \"month\", 'sales')\n",
    "product_lineplots.add_legend()\n",
    "product_lineplots.set(xlim=(1, 12), ylim=(0, None), xticks=[1, 2, 3, 4, 5, 6, 7, 8, 9, 10, 11, 12])"
   ]
  },
  {
   "cell_type": "markdown",
   "metadata": {
    "_cell_guid": "2075fbde-51dd-496f-bb27-4d6df273457c",
    "_uuid": "590afa7e-d0a2-456e-9b74-9bcac9dbec84",
    "trusted": true
   },
   "source": [
    "*Some observations:*\n",
    "\n",
    "Some months show weird behaviour for some of our products (for example Pet Supplies, Produce,...):\n",
    "- 2014: feb(2), apr(4), may(5), jun(6), aug(8)\n",
    "- 2015: jan(1), feb(2), mar(3), apr(4), may(5)\n",
    "\n",
    "**December:**\n",
    "\n",
    "Seems to be the best sales month for many products, probably because it's a holiday period with both christmas and new year's eve.\n",
    "\n",
    "**Books:**\n",
    "\n",
    "Seems like the 'books' category is at the end of being phased out, it's probably a good idea to set this prediction to zero.\n",
    "\n",
    "**School And Office Supplies:**\n",
    "\n",
    "Seems to peak in April, but before this year more in August-September. These dates are particularly interesting for us since our prediction also takes place in the middle of this peak (end of August)."
   ]
  },
  {
   "cell_type": "code",
   "execution_count": 7,
   "metadata": {
    "_cell_guid": "0f7c2fc1-03ac-477c-b812-2bd921b51e51",
    "_uuid": "e1bb9367-754b-436b-a520-858436d0f620",
    "collapsed": false,
    "trusted": true
   },
   "outputs": [
    {
     "ename": "TypeError",
     "evalue": "ufunc 'isfinite' not supported for the input types, and the inputs could not be safely coerced to any supported types according to the casting rule ''safe''",
     "output_type": "error",
     "traceback": [
      "\u001b[0;31m---------------------------------------------------------------------------\u001b[0m",
      "\u001b[0;31mTypeError\u001b[0m                                 Traceback (most recent call last)",
      "Cell \u001b[0;32mIn[7], line 7\u001b[0m\n\u001b[1;32m      3\u001b[0m total_monthly_sales \u001b[39m=\u001b[39m original_train\u001b[39m.\u001b[39mgroupby([\u001b[39m'\u001b[39m\u001b[39myear\u001b[39m\u001b[39m'\u001b[39m,\u001b[39m'\u001b[39m\u001b[39mmonth\u001b[39m\u001b[39m'\u001b[39m])\u001b[39m.\u001b[39magg({\u001b[39m\"\u001b[39m\u001b[39msales\u001b[39m\u001b[39m\"\u001b[39m : \u001b[39m\"\u001b[39m\u001b[39msum\u001b[39m\u001b[39m\"\u001b[39m})\u001b[39m.\u001b[39mreset_index()\n\u001b[1;32m      5\u001b[0m total_monthly_sales\u001b[39m.\u001b[39mat[\u001b[39m55\u001b[39m,\u001b[39m'\u001b[39m\u001b[39msales\u001b[39m\u001b[39m'\u001b[39m] \u001b[39m=\u001b[39m np\u001b[39m.\u001b[39mnan\n\u001b[0;32m----> 7\u001b[0m total_plot \u001b[39m=\u001b[39m sns\u001b[39m.\u001b[39;49mlineplot(x\u001b[39m=\u001b[39;49m\u001b[39m'\u001b[39;49m\u001b[39mmonth\u001b[39;49m\u001b[39m'\u001b[39;49m, y\u001b[39m=\u001b[39;49m\u001b[39m'\u001b[39;49m\u001b[39msales\u001b[39;49m\u001b[39m'\u001b[39;49m, hue\u001b[39m=\u001b[39;49m\u001b[39m'\u001b[39;49m\u001b[39myear\u001b[39;49m\u001b[39m'\u001b[39;49m, palette\u001b[39m=\u001b[39;49m\u001b[39m'\u001b[39;49m\u001b[39mrocket_r\u001b[39;49m\u001b[39m'\u001b[39;49m, data\u001b[39m=\u001b[39;49mtotal_monthly_sales)\n\u001b[1;32m      8\u001b[0m total_plot\u001b[39m.\u001b[39mset(xlim\u001b[39m=\u001b[39m(\u001b[39m1\u001b[39m, \u001b[39m12\u001b[39m), ylim\u001b[39m=\u001b[39m(\u001b[39m0\u001b[39m, \u001b[39mNone\u001b[39;00m), xticks\u001b[39m=\u001b[39m[\u001b[39m1\u001b[39m, \u001b[39m2\u001b[39m, \u001b[39m3\u001b[39m, \u001b[39m4\u001b[39m, \u001b[39m5\u001b[39m, \u001b[39m6\u001b[39m, \u001b[39m7\u001b[39m, \u001b[39m8\u001b[39m, \u001b[39m9\u001b[39m, \u001b[39m10\u001b[39m, \u001b[39m11\u001b[39m, \u001b[39m12\u001b[39m])\n",
      "File \u001b[0;32m/opt/homebrew/lib/python3.9/site-packages/seaborn/relational.py:645\u001b[0m, in \u001b[0;36mlineplot\u001b[0;34m(data, x, y, hue, size, style, units, palette, hue_order, hue_norm, sizes, size_order, size_norm, dashes, markers, style_order, estimator, errorbar, n_boot, seed, orient, sort, err_style, err_kws, legend, ci, ax, **kwargs)\u001b[0m\n\u001b[1;32m    642\u001b[0m color \u001b[39m=\u001b[39m kwargs\u001b[39m.\u001b[39mpop(\u001b[39m\"\u001b[39m\u001b[39mcolor\u001b[39m\u001b[39m\"\u001b[39m, kwargs\u001b[39m.\u001b[39mpop(\u001b[39m\"\u001b[39m\u001b[39mc\u001b[39m\u001b[39m\"\u001b[39m, \u001b[39mNone\u001b[39;00m))\n\u001b[1;32m    643\u001b[0m kwargs[\u001b[39m\"\u001b[39m\u001b[39mcolor\u001b[39m\u001b[39m\"\u001b[39m] \u001b[39m=\u001b[39m _default_color(ax\u001b[39m.\u001b[39mplot, hue, color, kwargs)\n\u001b[0;32m--> 645\u001b[0m p\u001b[39m.\u001b[39;49mplot(ax, kwargs)\n\u001b[1;32m    646\u001b[0m \u001b[39mreturn\u001b[39;00m ax\n",
      "File \u001b[0;32m/opt/homebrew/lib/python3.9/site-packages/seaborn/relational.py:489\u001b[0m, in \u001b[0;36m_LinePlotter.plot\u001b[0;34m(self, ax, kws)\u001b[0m\n\u001b[1;32m    486\u001b[0m \u001b[39mif\u001b[39;00m \u001b[39mself\u001b[39m\u001b[39m.\u001b[39merr_style \u001b[39m==\u001b[39m \u001b[39m\"\u001b[39m\u001b[39mband\u001b[39m\u001b[39m\"\u001b[39m:\n\u001b[1;32m    488\u001b[0m     func \u001b[39m=\u001b[39m {\u001b[39m\"\u001b[39m\u001b[39mx\u001b[39m\u001b[39m\"\u001b[39m: ax\u001b[39m.\u001b[39mfill_between, \u001b[39m\"\u001b[39m\u001b[39my\u001b[39m\u001b[39m\"\u001b[39m: ax\u001b[39m.\u001b[39mfill_betweenx}[orient]\n\u001b[0;32m--> 489\u001b[0m     func(\n\u001b[1;32m    490\u001b[0m         sub_data[orient],\n\u001b[1;32m    491\u001b[0m         sub_data[\u001b[39mf\u001b[39;49m\u001b[39m\"\u001b[39;49m\u001b[39m{\u001b[39;49;00mother\u001b[39m}\u001b[39;49;00m\u001b[39mmin\u001b[39;49m\u001b[39m\"\u001b[39;49m], sub_data[\u001b[39mf\u001b[39;49m\u001b[39m\"\u001b[39;49m\u001b[39m{\u001b[39;49;00mother\u001b[39m}\u001b[39;49;00m\u001b[39mmax\u001b[39;49m\u001b[39m\"\u001b[39;49m],\n\u001b[1;32m    492\u001b[0m         color\u001b[39m=\u001b[39;49mline_color, \u001b[39m*\u001b[39;49m\u001b[39m*\u001b[39;49merr_kws\n\u001b[1;32m    493\u001b[0m     )\n\u001b[1;32m    495\u001b[0m \u001b[39melif\u001b[39;00m \u001b[39mself\u001b[39m\u001b[39m.\u001b[39merr_style \u001b[39m==\u001b[39m \u001b[39m\"\u001b[39m\u001b[39mbars\u001b[39m\u001b[39m\"\u001b[39m:\n\u001b[1;32m    497\u001b[0m     error_param \u001b[39m=\u001b[39m {\n\u001b[1;32m    498\u001b[0m         \u001b[39mf\u001b[39m\u001b[39m\"\u001b[39m\u001b[39m{\u001b[39;00mother\u001b[39m}\u001b[39;00m\u001b[39merr\u001b[39m\u001b[39m\"\u001b[39m: (\n\u001b[1;32m    499\u001b[0m             sub_data[other] \u001b[39m-\u001b[39m sub_data[\u001b[39mf\u001b[39m\u001b[39m\"\u001b[39m\u001b[39m{\u001b[39;00mother\u001b[39m}\u001b[39;00m\u001b[39mmin\u001b[39m\u001b[39m\"\u001b[39m],\n\u001b[1;32m    500\u001b[0m             sub_data[\u001b[39mf\u001b[39m\u001b[39m\"\u001b[39m\u001b[39m{\u001b[39;00mother\u001b[39m}\u001b[39;00m\u001b[39mmax\u001b[39m\u001b[39m\"\u001b[39m] \u001b[39m-\u001b[39m sub_data[other],\n\u001b[1;32m    501\u001b[0m         )\n\u001b[1;32m    502\u001b[0m     }\n",
      "File \u001b[0;32m/opt/homebrew/lib/python3.9/site-packages/matplotlib/__init__.py:1423\u001b[0m, in \u001b[0;36m_preprocess_data.<locals>.inner\u001b[0;34m(ax, data, *args, **kwargs)\u001b[0m\n\u001b[1;32m   1420\u001b[0m \u001b[39m@functools\u001b[39m\u001b[39m.\u001b[39mwraps(func)\n\u001b[1;32m   1421\u001b[0m \u001b[39mdef\u001b[39;00m \u001b[39minner\u001b[39m(ax, \u001b[39m*\u001b[39margs, data\u001b[39m=\u001b[39m\u001b[39mNone\u001b[39;00m, \u001b[39m*\u001b[39m\u001b[39m*\u001b[39mkwargs):\n\u001b[1;32m   1422\u001b[0m     \u001b[39mif\u001b[39;00m data \u001b[39mis\u001b[39;00m \u001b[39mNone\u001b[39;00m:\n\u001b[0;32m-> 1423\u001b[0m         \u001b[39mreturn\u001b[39;00m func(ax, \u001b[39m*\u001b[39;49m\u001b[39mmap\u001b[39;49m(sanitize_sequence, args), \u001b[39m*\u001b[39;49m\u001b[39m*\u001b[39;49mkwargs)\n\u001b[1;32m   1425\u001b[0m     bound \u001b[39m=\u001b[39m new_sig\u001b[39m.\u001b[39mbind(ax, \u001b[39m*\u001b[39margs, \u001b[39m*\u001b[39m\u001b[39m*\u001b[39mkwargs)\n\u001b[1;32m   1426\u001b[0m     auto_label \u001b[39m=\u001b[39m (bound\u001b[39m.\u001b[39marguments\u001b[39m.\u001b[39mget(label_namer)\n\u001b[1;32m   1427\u001b[0m                   \u001b[39mor\u001b[39;00m bound\u001b[39m.\u001b[39mkwargs\u001b[39m.\u001b[39mget(label_namer))\n",
      "File \u001b[0;32m/opt/homebrew/lib/python3.9/site-packages/matplotlib/axes/_axes.py:5367\u001b[0m, in \u001b[0;36mAxes.fill_between\u001b[0;34m(self, x, y1, y2, where, interpolate, step, **kwargs)\u001b[0m\n\u001b[1;32m   5365\u001b[0m \u001b[39mdef\u001b[39;00m \u001b[39mfill_between\u001b[39m(\u001b[39mself\u001b[39m, x, y1, y2\u001b[39m=\u001b[39m\u001b[39m0\u001b[39m, where\u001b[39m=\u001b[39m\u001b[39mNone\u001b[39;00m, interpolate\u001b[39m=\u001b[39m\u001b[39mFalse\u001b[39;00m,\n\u001b[1;32m   5366\u001b[0m                  step\u001b[39m=\u001b[39m\u001b[39mNone\u001b[39;00m, \u001b[39m*\u001b[39m\u001b[39m*\u001b[39mkwargs):\n\u001b[0;32m-> 5367\u001b[0m     \u001b[39mreturn\u001b[39;00m \u001b[39mself\u001b[39;49m\u001b[39m.\u001b[39;49m_fill_between_x_or_y(\n\u001b[1;32m   5368\u001b[0m         \u001b[39m\"\u001b[39;49m\u001b[39mx\u001b[39;49m\u001b[39m\"\u001b[39;49m, x, y1, y2,\n\u001b[1;32m   5369\u001b[0m         where\u001b[39m=\u001b[39;49mwhere, interpolate\u001b[39m=\u001b[39;49minterpolate, step\u001b[39m=\u001b[39;49mstep, \u001b[39m*\u001b[39;49m\u001b[39m*\u001b[39;49mkwargs)\n",
      "File \u001b[0;32m/opt/homebrew/lib/python3.9/site-packages/matplotlib/axes/_axes.py:5272\u001b[0m, in \u001b[0;36mAxes._fill_between_x_or_y\u001b[0;34m(self, ind_dir, ind, dep1, dep2, where, interpolate, step, **kwargs)\u001b[0m\n\u001b[1;32m   5268\u001b[0m         kwargs[\u001b[39m\"\u001b[39m\u001b[39mfacecolor\u001b[39m\u001b[39m\"\u001b[39m] \u001b[39m=\u001b[39m \\\n\u001b[1;32m   5269\u001b[0m             \u001b[39mself\u001b[39m\u001b[39m.\u001b[39m_get_patches_for_fill\u001b[39m.\u001b[39mget_next_color()\n\u001b[1;32m   5271\u001b[0m \u001b[39m# Handle united data, such as dates\u001b[39;00m\n\u001b[0;32m-> 5272\u001b[0m ind, dep1, dep2 \u001b[39m=\u001b[39m \u001b[39mmap\u001b[39m(\n\u001b[1;32m   5273\u001b[0m     ma\u001b[39m.\u001b[39mmasked_invalid, \u001b[39mself\u001b[39m\u001b[39m.\u001b[39m_process_unit_info(\n\u001b[1;32m   5274\u001b[0m         [(ind_dir, ind), (dep_dir, dep1), (dep_dir, dep2)], kwargs))\n\u001b[1;32m   5276\u001b[0m \u001b[39mfor\u001b[39;00m name, array \u001b[39min\u001b[39;00m [\n\u001b[1;32m   5277\u001b[0m         (ind_dir, ind), (\u001b[39mf\u001b[39m\u001b[39m\"\u001b[39m\u001b[39m{\u001b[39;00mdep_dir\u001b[39m}\u001b[39;00m\u001b[39m1\u001b[39m\u001b[39m\"\u001b[39m, dep1), (\u001b[39mf\u001b[39m\u001b[39m\"\u001b[39m\u001b[39m{\u001b[39;00mdep_dir\u001b[39m}\u001b[39;00m\u001b[39m2\u001b[39m\u001b[39m\"\u001b[39m, dep2)]:\n\u001b[1;32m   5278\u001b[0m     \u001b[39mif\u001b[39;00m array\u001b[39m.\u001b[39mndim \u001b[39m>\u001b[39m \u001b[39m1\u001b[39m:\n",
      "File \u001b[0;32m/opt/homebrew/lib/python3.9/site-packages/numpy/ma/core.py:2360\u001b[0m, in \u001b[0;36mmasked_invalid\u001b[0;34m(a, copy)\u001b[0m\n\u001b[1;32m   2332\u001b[0m \u001b[39mdef\u001b[39;00m \u001b[39mmasked_invalid\u001b[39m(a, copy\u001b[39m=\u001b[39m\u001b[39mTrue\u001b[39;00m):\n\u001b[1;32m   2333\u001b[0m     \u001b[39m\"\"\"\u001b[39;00m\n\u001b[1;32m   2334\u001b[0m \u001b[39m    Mask an array where invalid values occur (NaNs or infs).\u001b[39;00m\n\u001b[1;32m   2335\u001b[0m \n\u001b[0;32m   (...)\u001b[0m\n\u001b[1;32m   2357\u001b[0m \n\u001b[1;32m   2358\u001b[0m \u001b[39m    \"\"\"\u001b[39;00m\n\u001b[0;32m-> 2360\u001b[0m     \u001b[39mreturn\u001b[39;00m masked_where(\u001b[39m~\u001b[39m(np\u001b[39m.\u001b[39;49misfinite(getdata(a))), a, copy\u001b[39m=\u001b[39mcopy)\n",
      "\u001b[0;31mTypeError\u001b[0m: ufunc 'isfinite' not supported for the input types, and the inputs could not be safely coerced to any supported types according to the casting rule ''safe''"
     ]
    },
    {
     "data": {
      "image/png": "[encoded data removed]",
      "text/plain": [
       "<Figure size 640x480 with 1 Axes>"
      ]
     },
     "metadata": {},
     "output_type": "display_data"
    }
   ],
   "source": [
    "# Create a graph for allsales:\n",
    "\n",
    "total_monthly_sales = original_train.groupby(['year','month']).agg({\"sales\" : \"sum\"}).reset_index()\n",
    "\n",
    "total_monthly_sales.at[55,'sales'] = np.nan\n",
    "\n",
    "total_plot = sns.lineplot(x='month', y='sales', hue='year', palette='rocket_r', data=total_monthly_sales)\n",
    "total_plot.set(xlim=(1, 12), ylim=(0, None), xticks=[1, 2, 3, 4, 5, 6, 7, 8, 9, 10, 11, 12])"
   ]
  },
  {
   "cell_type": "markdown",
   "metadata": {
    "_cell_guid": "33518d97-e837-454a-b3a1-275d723be380",
    "_uuid": "e517fa4e-1dbf-4c37-aee3-0f01edf831c9",
    "trusted": true
   },
   "source": [
    "# 1.3 Create Variables"
   ]
  },
  {
   "attachments": {},
   "cell_type": "markdown",
   "metadata": {
    "_cell_guid": "80fa58e7-d07f-4b92-bbd8-f470af36d4f0",
    "_uuid": "372c44d3-2565-45c3-a7f0-8e69c7b19dc1",
    "trusted": true
   },
   "source": [
    "We will create:\n",
    "\n",
    "- An ***independent*** dataframe: where one day = one row, independent of store numbers and product groups, here we create variables that are depending on the date, irrelevant of the store (for example, the day of the week)\n",
    "\n",
    "- An ***all stores*** dataframe: we create a dataframe where we aggregate all 54 stores, and add variables that are depending on the stores (for example: store_closed)\n",
    "\n",
    "- A ***group of product*** dataframes: the main dataframe where we aggregate per product and then add the previously created data from the independent df and all stores df."
   ]
  },
  {
   "attachments": {},
   "cell_type": "markdown",
   "metadata": {
    "_cell_guid": "0cdc2c91-58ba-45cc-8d93-1ffde3586d9f",
    "_uuid": "d0dd45ca-0b93-42e5-ac17-e0d3ac212026",
    "trusted": true
   },
   "source": [
    "# 1.3.1 Independent Dataframe"
   ]
  },
  {
   "attachments": {},
   "cell_type": "markdown",
   "metadata": {
    "_cell_guid": "98970677-111f-49b6-9faa-3ec5de19945d",
    "_uuid": "18a1b932-276e-44bb-a696-cccc9741ebc7",
    "trusted": true
   },
   "source": [
    "For the **independent** dataframe we create the following functions:\n",
    "- **create_date_df**: small function to aggregate the dataframe into a smaller one grouped by date\n",
    "\n",
    "- **create_paydays**: for the government jobs (the biggest employer in Ecuador), wages are paid on both the first day of the month, and the 15th. This function creates the payday columns: both effective paydays, as a scale that counts up to have a var that shows how long ago people have been paid.\n",
    "\n",
    "- **onehotencode**: function to turn the chosen columns into different binary columns (we will also use this function for our all stores df).\n",
    "\n",
    "- **independent pipeline**: pipeline that merges all previous functions to create one dataframe. Here we also add extra variables: regular date variables, a variable that indicates when the earthquake happened, and a variable for when school starts (to increase our school and office supplies score)."
   ]
  },
  {
   "cell_type": "code",
   "execution_count": 8,
   "metadata": {
    "_cell_guid": "e3b4992b-515c-493b-95ac-3decb81fdb9c",
    "_uuid": "01273f3b-dc78-4ba9-8d5d-07ea462be148",
    "collapsed": false,
    "trusted": true
   },
   "outputs": [],
   "source": [
    "def create_date_df(df, store_nr):\n",
    "\n",
    "    single_store_df = df[df['store_nbr'] == store_nr]\n",
    "    single_store_series = single_store_df.groupby([\"date\"]).sum(numeric_only=True)\n",
    "\n",
    "    return single_store_series"
   ]
  },
  {
   "cell_type": "code",
   "execution_count": 9,
   "metadata": {
    "_cell_guid": "4ca2abd3-4454-41b8-8c39-8ba0da22a062",
    "_uuid": "85b6eb86-d584-471e-acaa-3f803cf9a876",
    "collapsed": false,
    "trusted": true
   },
   "outputs": [],
   "source": [
    "def create_payday_anchors(df):\n",
    "\n",
    "    df.reset_index(inplace=True)\n",
    "    df['Payday'] = 0\n",
    "\n",
    "    for id, row in df.iterrows():\n",
    "\n",
    "        if search('-01$', row['date']):\n",
    "            df.at[id - 1, 'Payday'] = 1\n",
    "\n",
    "        if search('-15$', row['date']):\n",
    "            df.at[id, 'Payday'] = 1\n",
    "\n",
    "    df = df[:-1]\n",
    "\n",
    "    return df"
   ]
  },
  {
   "cell_type": "code",
   "execution_count": 10,
   "metadata": {
    "_cell_guid": "1e42292b-b82c-4d47-b493-29da583a0328",
    "_uuid": "8d895003-4d92-40e8-80b3-e038fab64e7d",
    "collapsed": false,
    "trusted": true
   },
   "outputs": [],
   "source": [
    "def onehotencode(df, list_of_variables):\n",
    "\n",
    "    column_name_list = list()\n",
    "    my_category_list = list()\n",
    "\n",
    "    for column in list_of_variables:\n",
    "\n",
    "        categories = df[column].unique().tolist()\n",
    "\n",
    "        for i in categories:\n",
    "\n",
    "            this_list = ((df[column] == i) * 1).tolist()\n",
    "\n",
    "            column_name_list.append(column + str(i))\n",
    "            my_category_list.append(this_list)\n",
    "\n",
    "            print('Finished ' + str(i))\n",
    "\n",
    "        print(str(column) + ' is done.')\n",
    "\n",
    "    onehotencode_df = pd.DataFrame(my_category_list).transpose()\n",
    "    onehotencode_df.columns = np.asarray(column_name_list)\n",
    "\n",
    "    return onehotencode_df"
   ]
  },
  {
   "cell_type": "code",
   "execution_count": 13,
   "metadata": {
    "_cell_guid": "9fe017bb-79d4-482d-a734-82acbd7c536d",
    "_uuid": "62b8ec84-432d-4787-ab02-4497cd4a9e48",
    "collapsed": false,
    "trusted": true
   },
   "outputs": [],
   "source": [
    "def independent():\n",
    "\n",
    "    original_train = pd.read_csv('data/train.csv')\n",
    "    original_test = pd.read_csv('data/test.csv')\n",
    "\n",
    "    # Get one store one product DF:\n",
    "    one_store_df = create_date_df(original_train, 1)\n",
    "    one_store_df_test = create_date_df(original_test, 1)\n",
    "    one_store_df.drop('sales', axis=1, inplace=True)\n",
    "\n",
    "    one_store_df = pd.concat([one_store_df, one_store_df_test])\n",
    "\n",
    "    del original_train\n",
    "    del original_test\n",
    "\n",
    "    ########################\n",
    "    # Add Paydays          #\n",
    "    ########################\n",
    "\n",
    "    one_store_df = create_payday_anchors(one_store_df)\n",
    "\n",
    "    payday_series = one_store_df['Payday']\n",
    "    payday_count = 0\n",
    "    payday_scale_list = list()\n",
    "\n",
    "    for x in range(payday_series.__len__()):\n",
    "\n",
    "        if payday_series[x] == 1:\n",
    "            payday_count = 0\n",
    "            payday_scale_list.append(payday_count)\n",
    "        else:\n",
    "            payday_count += 1\n",
    "            payday_scale_list.append(payday_count)\n",
    "\n",
    "    one_store_df['Payday_Scale'] = payday_scale_list\n",
    "\n",
    "    one_store_df.drop(['id'], axis=1, inplace=True)\n",
    "\n",
    "    ######################\n",
    "    # Add Date Variables #\n",
    "    ######################\n",
    "\n",
    "    dayoftheweek_list = list()\n",
    "    dayoftheyear_list = list()\n",
    "    monthoftheyear_list = list()\n",
    "    year_list = list()\n",
    "\n",
    "    for x in range(1700): # because 1700 different days\n",
    "\n",
    "        thisdate = one_store_df['date'][x]\n",
    "        thisdayoftheweek = dt.datetime.strptime(thisdate, '%Y-%m-%d').strftime('%A')\n",
    "        thisdayoftheyear = dt.datetime.strptime(thisdate, '%Y-%m-%d').strftime('%j')\n",
    "        thismonthoftheyear = dt.datetime.strptime(thisdate, '%Y-%m-%d').strftime('%B')\n",
    "        thisyear = dt.datetime.strptime(thisdate, '%Y-%m-%d').strftime('%Y')\n",
    "\n",
    "        dayoftheweek_list.append(thisdayoftheweek)\n",
    "        dayoftheyear_list.append(thisdayoftheyear)\n",
    "        monthoftheyear_list.append(thismonthoftheyear)\n",
    "        year_list.append(thisyear)\n",
    "\n",
    "    one_store_df['DayOfTheWeek'] = dayoftheweek_list\n",
    "    one_store_df['DayOfTheYear'] = dayoftheyear_list\n",
    "    one_store_df['MonthOfTheYear'] = monthoftheyear_list\n",
    "    one_store_df['Year'] = year_list\n",
    "\n",
    "    one_store_df['DayOfTheYear'] = pd.to_numeric(one_store_df['DayOfTheYear'])\n",
    "\n",
    "    # Convert DayOfTheWeek to numeric:\n",
    "\n",
    "    dayoftheweek_scale_dict = {'Monday': 1, 'Tuesday': 2, 'Wednesday': 3, 'Thursday': 4,\n",
    "                               'Friday': 5, 'Saturday': 6, 'Sunday': 7}\n",
    "\n",
    "    one_store_df['dayoftheweek_scale'] = one_store_df['DayOfTheWeek'].map(dayoftheweek_scale_dict)\n",
    "\n",
    "    ########################\n",
    "    # OneHotEncode         #\n",
    "    ########################\n",
    "\n",
    "    onehotcolumnlist = ('DayOfTheWeek', 'MonthOfTheYear', 'Year')\n",
    "    onehotencode_df = onehotencode(one_store_df, onehotcolumnlist)\n",
    "    one_store_df = pd.concat([one_store_df, onehotencode_df], axis=1)\n",
    "\n",
    "    ########################\n",
    "    # Drop Some Cols       #\n",
    "    ########################\n",
    "\n",
    "    one_store_df.drop(['store_nbr', 'DayOfTheWeek', 'onpromotion'], axis=1, inplace=True)\n",
    "\n",
    "    return one_store_df"
   ]
  },
  {
   "cell_type": "code",
   "execution_count": 14,
   "metadata": {
    "_cell_guid": "02038ad5-8eb4-4184-a8a7-0809709ea7fc",
    "_uuid": "60147193-0ae9-45ee-a2c4-c017b3a75de7",
    "collapsed": false,
    "trusted": true
   },
   "outputs": [
    {
     "name": "stdout",
     "output_type": "stream",
     "text": [
      "Finished Tuesday\n",
      "Finished Wednesday\n",
      "Finished Thursday\n",
      "Finished Friday\n",
      "Finished Saturday\n",
      "Finished Sunday\n",
      "Finished Monday\n",
      "DayOfTheWeek is done.\n",
      "Finished January\n",
      "Finished February\n",
      "Finished March\n",
      "Finished April\n",
      "Finished May\n",
      "Finished June\n",
      "Finished July\n",
      "Finished August\n",
      "Finished September\n",
      "Finished October\n",
      "Finished November\n",
      "Finished December\n",
      "MonthOfTheYear is done.\n",
      "Finished 2013\n",
      "Finished 2014\n",
      "Finished 2015\n",
      "Finished 2016\n",
      "Finished 2017\n",
      "Year is done.\n"
     ]
    }
   ],
   "source": [
    "# --- Execute Pipeline --- #\n",
    "\n",
    "independant_df = independent()"
   ]
  },
  {
   "cell_type": "markdown",
   "metadata": {
    "_cell_guid": "5e6da83a-e6c3-4831-951a-7b3146862132",
    "_uuid": "5b91f1a3-eb1c-48f8-833a-06b774485190",
    "trusted": true
   },
   "source": [
    "# 1.3.2 All Stores Dataframe"
   ]
  },
  {
   "cell_type": "markdown",
   "metadata": {
    "_cell_guid": "d5cc48ef-34ca-423c-933e-5cd490bf45e1",
    "_uuid": "8804fb92-b77d-4b76-9167-ba451ecf24b1",
    "trusted": true
   },
   "source": [
    "For our **all stores** dataframe we create the following functions:\n",
    "- **create_multi_store_one_product_df**: small function to create a df aggregated on stores and filtered on one product.\n",
    "\n",
    "- **create_holiday_variables**: function that creates all the different holiday variables (depending on the store location). \n",
    "\n",
    "- **create_location_variables**: function that creates some extra variables based on the store locations. This is external data that we add that was not available in our initial dataframes on kaggle. We specifically look at elevation (Ecuador is a mountainous country) and city density (a store in a big city might have very different effects at certain times than a store in a sparsely populated town).\n",
    "\n",
    "- **all_stores_pipeline**: pipeline function that merges the previous functions (and also performs onehotencode) to create our all stores df."
   ]
  },
  {
   "cell_type": "code",
   "execution_count": 15,
   "metadata": {
    "_cell_guid": "9bd25c8f-61af-4339-b063-7647be7b981c",
    "_uuid": "dadfa894-3d04-4d0d-8311-650fbcca2f4a",
    "collapsed": false,
    "trusted": true
   },
   "outputs": [],
   "source": [
    "def create_multi_store_one_product_df(df, product_name):\n",
    "\n",
    "    multistore_single_product = df[df['family'] == product_name]\n",
    "\n",
    "    return multistore_single_product"
   ]
  },
  {
   "cell_type": "code",
   "execution_count": 22,
   "metadata": {
    "_cell_guid": "d75b6757-0e8c-4764-9f93-146d80410d08",
    "_uuid": "7013442b-ba31-450a-ad7d-4c29ea74b1a5",
    "collapsed": false,
    "trusted": true
   },
   "outputs": [],
   "source": [
    "def create_holiday_variables(df):\n",
    "\n",
    "    holidays = pd.read_csv('data/holidays_events.csv')\n",
    "\n",
    "    holidays = holidays[holidays['transferred'] == False]\n",
    "    holidays['holiday_type'] = holidays['type']\n",
    "    holidays.drop(['transferred', 'description', 'type'], axis=1, inplace=True)\n",
    "\n",
    "    national_holidays = holidays[holidays['locale'] == 'National']\n",
    "    national_holidays['national_holiday_type'] = national_holidays['holiday_type']\n",
    "    national_holidays.drop(['locale', 'locale_name', 'holiday_type'], axis=1, inplace=True)\n",
    "    national_holidays.drop_duplicates(subset='date', keep=\"first\", inplace=True)\n",
    "    df = pd.merge(df, national_holidays, how='left', on=['date'])\n",
    "\n",
    "    state_holidays = holidays[holidays['locale'] == 'Regional']\n",
    "    state_holidays['state'] = state_holidays['locale_name']\n",
    "    state_holidays['state_holiday_type'] = state_holidays['holiday_type']\n",
    "    state_holidays.drop(['locale', 'locale_name', 'holiday_type'], axis=1, inplace=True)\n",
    "    df = pd.merge(df, state_holidays, how='left', on=['date', 'state'])\n",
    "\n",
    "    city_holidays = holidays[holidays['locale'] == 'Local']\n",
    "    city_holidays['city'] = city_holidays['locale_name']\n",
    "    city_holidays['city_holiday_type'] = city_holidays['holiday_type']\n",
    "    city_holidays.drop(['locale', 'locale_name', 'holiday_type'], axis=1, inplace=True)\n",
    "    city_holidays.drop([265], axis=0, inplace=True)\n",
    "    df = pd.merge(df, city_holidays, how='left', on=['date', 'city'])\n",
    "\n",
    "    df['holiday_type'] = np.nan\n",
    "    df['holiday_type'] = df['holiday_type'].fillna(df['national_holiday_type'])\n",
    "    df['holiday_type'] = df['holiday_type'].fillna(df['state_holiday_type'])\n",
    "    df['holiday_type'] = df['holiday_type'].fillna(df['city_holiday_type'])\n",
    "    df.drop(['national_holiday_type', 'state_holiday_type', 'city_holiday_type'], axis=1, inplace=True)\n",
    "\n",
    "    return df"
   ]
  },
  {
   "cell_type": "code",
   "execution_count": 26,
   "metadata": {
    "_cell_guid": "52eaa4ce-ee1f-4468-aee0-ec8fa7c2978b",
    "_uuid": "d9ead4c1-3c66-47b6-8205-71f3ca1aa539",
    "collapsed": false,
    "trusted": true
   },
   "outputs": [],
   "source": [
    "def create_location_variables(df):\n",
    "\n",
    "    stores = pd.read_csv('data/stores.csv')\n",
    "\n",
    "    # stores['city'].unique()\n",
    "    # ['Quito', 'Santo Domingo', 'Cayambe', 'Latacunga', 'Riobamba',\n",
    "    #  'Ibarra', 'Guaranda', 'Puyo', 'Ambato', 'Guayaquil', 'Salinas',\n",
    "    #  'Daule', 'Babahoyo', 'Quevedo', 'Playas', 'Libertad', 'Cuenca',\n",
    "    #  'Loja', 'Machala', 'Esmeraldas', 'Manta', 'El Carmen']\n",
    "\n",
    "    # Height dict:\n",
    "    Height = {'Quito': 2850, 'Santo Domingo': 550, 'Cayambe': 2830, 'Latacunga': 2860,\n",
    "              'Riobamba': 2754, 'Ibarra': 2225, 'Guaranda': 2668, 'Puyo': 950,\n",
    "              'Ambato': 2577, 'Guayaquil': 0, 'Salinas': 0, 'Daule': 0,\n",
    "              'Babahoyo': 0, 'Quevedo': 75, 'Playas': 0, 'Libertad': 36,\n",
    "              'Cuenca': 2560, 'Loja': 2060, 'Machala': 0, 'Esmeraldas': 15,\n",
    "              'Manta': 0, 'El Carmen': 250}\n",
    "\n",
    "    # Elevation:\n",
    "    # 0 = 0 - 200 (10)\n",
    "    # 1 = 200-700 (2)\n",
    "    # 2 = 700-1500 (1)\n",
    "    # 3 = 1500-2300 (2)\n",
    "    # 4 = 2300-3000 (7)\n",
    "\n",
    "    Population = {'Quito': 2000000, 'Santo Domingo': 460000, 'Cayambe': 40000, 'Latacunga': 100000,\n",
    "                  'Riobamba': 157000, 'Ibarra': 150000, 'Guaranda': 35000, 'Puyo': 40000,\n",
    "                  'Ambato': 350000, 'Guayaquil': 2750000, 'Salinas': 50000, 'Daule': 130000,\n",
    "                  'Babahoyo': 105000, 'Quevedo': 200000, 'Playas': 40000, 'Libertad': 105000,\n",
    "                  'Cuenca': 445000, 'Loja': 200000, 'Machala': 260000, 'Esmeraldas': 200000,\n",
    "                  'Manta': 240000, 'El Carmen': 120000}\n",
    "\n",
    "    # Population:\n",
    "    # 0 = 0-60000 (5)\n",
    "    # 1 = 60000-160000 (12)\n",
    "    # 2 = 160000-280000 (3)\n",
    "    # 3 = 280000+ (2)\n",
    "\n",
    "    Size = {'Quito': 372, 'Santo Domingo': 60, 'Cayambe': 378, 'Latacunga': 370,\n",
    "            'Riobamba': 59, 'Ibarra': 242, 'Guaranda': 520, 'Puyo': 88,\n",
    "            'Ambato': 47, 'Guayaquil': 345, 'Salinas': 27, 'Daule': 475,\n",
    "            'Babahoyo': 175, 'Quevedo': 300, 'Playas': 280, 'Libertad': 28,\n",
    "            'Cuenca': 71, 'Loja': 44, 'Machala': 67, 'Esmeraldas': 70,\n",
    "            'Manta': 60, 'El Carmen': 1250}\n",
    "\n",
    "    stores[\"City_Population\"] = stores['city'].map(Population)\n",
    "    stores[\"City_Elevation\"] = stores['city'].map(Height)\n",
    "    stores[\"City_Size\"] = stores['city'].map(Size)\n",
    "    stores[\"City_Density\"] = round(stores[\"City_Population\"] / stores[\"City_Size\"],0)\n",
    "    stores[\"City_Population_Category\"] = 0\n",
    "    stores[\"City_Elevation_Category\"] = 0\n",
    "    stores[\"City_Size_Category\"] = 0\n",
    "    stores[\"City_Density_Category\"] = 0\n",
    "\n",
    "    for id, row in stores.iterrows():\n",
    "\n",
    "        if row['City_Elevation'] < 200:\n",
    "            stores.at[id, 'City_Elevation_Category'] = 0\n",
    "        elif row['City_Elevation'] < 700:\n",
    "            stores.at[id, 'City_Elevation_Category'] = 1\n",
    "        elif row['City_Elevation'] < 1500:\n",
    "            stores.at[id, 'City_Elevation_Category'] = 2\n",
    "        elif row['City_Elevation'] < 2300:\n",
    "            stores.at[id, 'City_Elevation_Category'] = 3\n",
    "        else:\n",
    "            stores.at[id, 'City_Elevation_Category'] = 4\n",
    "\n",
    "        if row['City_Population'] < 60000:\n",
    "            stores.at[id, 'City_Population_Category'] = 0\n",
    "        elif row['City_Population'] < 160000:\n",
    "            stores.at[id, 'City_Population_Category'] = 1\n",
    "        elif row['City_Population'] < 280000:\n",
    "            stores.at[id, 'City_Population_Category'] = 2\n",
    "        else:\n",
    "            stores.at[id, 'City_Population_Category'] = 3\n",
    "\n",
    "        if row['City_Size'] < 150:\n",
    "            stores.at[id, 'City_Size_Category'] = 0\n",
    "        elif row['City_Size'] < 325:\n",
    "            stores.at[id, 'City_Size_Category'] = 1\n",
    "        elif row['City_Size'] < 1000:\n",
    "            stores.at[id, 'City_Size_Category'] = 2\n",
    "        else:\n",
    "            stores.at[id, 'City_Size_Category'] = 3\n",
    "\n",
    "        if row['City_Density'] < 150:\n",
    "            stores.at[id, 'City_Density_Category'] = 0\n",
    "        elif row['City_Density'] < 325:\n",
    "            stores.at[id, 'City_Density_Category'] = 1\n",
    "        elif row['City_Density'] < 1000:\n",
    "            stores.at[id, 'City_Density_Category'] = 2\n",
    "        elif row['City_Density'] < 3000:\n",
    "            stores.at[id, 'City_Density_Category'] = 3\n",
    "        elif row['City_Density'] < 7000:\n",
    "            stores.at[id, 'City_Density_Category'] = 4\n",
    "        else:\n",
    "            stores.at[id, 'City_Density_Category'] = 5\n",
    "\n",
    "    city_variables_df = stores[['store_nbr', 'City_Elevation_Category', 'City_Population_Category', 'City_Size_Category',\n",
    "                                'City_Density_Category', 'City_Density']]\n",
    "    df = pd.merge(df, city_variables_df, how='left', on='store_nbr')\n",
    "    df.drop(['city','state'], axis=1, inplace=True)\n",
    "\n",
    "    return df"
   ]
  },
  {
   "cell_type": "code",
   "execution_count": 27,
   "metadata": {
    "_cell_guid": "cc87c6d9-be21-4296-858b-3af6b474a4c4",
    "_uuid": "0a6a140d-20d8-4ef2-a876-2481837f4754",
    "collapsed": false,
    "trusted": true
   },
   "outputs": [],
   "source": [
    "def all_stores_pipeline():\n",
    "\n",
    "    originaltrainFull = pd.read_csv('data/train.csv')\n",
    "    originaltest = pd.read_csv('data/test.csv')\n",
    "\n",
    "    stores = pd.read_csv('data/stores.csv')\n",
    "    transactions = pd.read_csv('data/transactions.csv')\n",
    "\n",
    "    all_stores_df = create_multi_store_one_product_df(originaltrainFull, 'AUTOMOTIVE')\n",
    "    all_stores_df_test = create_multi_store_one_product_df(originaltest, 'AUTOMOTIVE')\n",
    "    all_stores_df.drop('sales', axis=1, inplace=True)\n",
    "\n",
    "    all_stores_df = pd.concat([all_stores_df, all_stores_df_test])\n",
    "    all_stores_df.drop(['id', 'family', 'onpromotion'], axis=1, inplace=True)\n",
    "\n",
    "    all_stores_df = pd.merge(all_stores_df, stores, how='left', on=['store_nbr'])\n",
    "\n",
    "    del originaltest\n",
    "    del originaltrainFull\n",
    "\n",
    "    #########################\n",
    "    # Add Holiday Variables #\n",
    "    #########################\n",
    "\n",
    "    all_stores_df = create_holiday_variables(all_stores_df)\n",
    "\n",
    "    ##########################\n",
    "    # Add Location Variables #\n",
    "    ##########################\n",
    "\n",
    "    all_stores_df = create_location_variables(all_stores_df)\n",
    "\n",
    "    ################################\n",
    "    # Create Store Closed Variable #\n",
    "    ################################\n",
    "\n",
    "    all_stores_df = pd.merge(all_stores_df, transactions, how='left', on=['date', 'store_nbr'])\n",
    "    all_stores_df['transactions'].fillna(0, inplace=True)\n",
    "\n",
    "    store_closed = [1 if x == 0 else 0 for x in all_stores_df['transactions']]\n",
    "\n",
    "    all_stores_df['store_closed'] = store_closed\n",
    "    all_stores_df['store_closed'].iloc[-864:] = 0\n",
    "\n",
    "    all_stores_df.drop('transactions', axis=1, inplace=True)\n",
    "\n",
    "    ###################\n",
    "    # OneHotEncode    #\n",
    "    ###################\n",
    "\n",
    "    all_stores_df['isholiday'] = 1\n",
    "    thislist = all_stores_df['holiday_type'].isna()\n",
    "    all_stores_df.loc[thislist,'isholiday'] = 0\n",
    "\n",
    "    onehotcolumnlist = ('store_nbr', 'type', 'cluster', 'holiday_type', 'City_Elevation_Category',\n",
    "                        'City_Population_Category', 'City_Density_Category', 'City_Size_Category')\n",
    "\n",
    "    onehotencode_df = onehotencode(all_stores_df, onehotcolumnlist)\n",
    "    all_stores_df = pd.concat([all_stores_df, onehotencode_df], axis=1)\n",
    "\n",
    "    ###################\n",
    "    # Drop Some Cols  #\n",
    "    ###################\n",
    "\n",
    "    all_stores_df.drop(['type', 'cluster', 'holiday_type'], axis=1, inplace=True)\n",
    "\n",
    "    return all_stores_df"
   ]
  },
  {
   "cell_type": "code",
   "execution_count": 28,
   "metadata": {
    "_cell_guid": "b65bd706-a06d-4095-9917-9fdb9ec1b3fc",
    "_uuid": "a55e9063-0b0d-4a6d-aed0-a79eb19b4725",
    "collapsed": false,
    "trusted": true
   },
   "outputs": [
    {
     "name": "stdout",
     "output_type": "stream",
     "text": [
      "Finished 1\n",
      "Finished 10\n",
      "Finished 11\n",
      "Finished 12\n",
      "Finished 13\n",
      "Finished 14\n",
      "Finished 15\n",
      "Finished 16\n",
      "Finished 17\n",
      "Finished 18\n",
      "Finished 19\n",
      "Finished 2\n",
      "Finished 20\n",
      "Finished 21\n",
      "Finished 22\n",
      "Finished 23\n",
      "Finished 24\n",
      "Finished 25\n",
      "Finished 26\n",
      "Finished 27\n",
      "Finished 28\n",
      "Finished 29\n",
      "Finished 3\n",
      "Finished 30\n",
      "Finished 31\n",
      "Finished 32\n",
      "Finished 33\n",
      "Finished 34\n",
      "Finished 35\n",
      "Finished 36\n",
      "Finished 37\n",
      "Finished 38\n",
      "Finished 39\n",
      "Finished 4\n",
      "Finished 40\n",
      "Finished 41\n",
      "Finished 42\n",
      "Finished 43\n",
      "Finished 44\n",
      "Finished 45\n",
      "Finished 46\n",
      "Finished 47\n",
      "Finished 48\n",
      "Finished 49\n",
      "Finished 5\n",
      "Finished 50\n",
      "Finished 51\n",
      "Finished 52\n",
      "Finished 53\n",
      "Finished 54\n",
      "Finished 6\n",
      "Finished 7\n",
      "Finished 8\n",
      "Finished 9\n",
      "store_nbr is done.\n",
      "Finished D\n",
      "Finished C\n",
      "Finished B\n",
      "Finished E\n",
      "Finished A\n",
      "type is done.\n",
      "Finished 13\n",
      "Finished 15\n",
      "Finished 6\n",
      "Finished 7\n",
      "Finished 3\n",
      "Finished 12\n",
      "Finished 16\n",
      "Finished 9\n",
      "Finished 1\n",
      "Finished 10\n",
      "Finished 8\n",
      "Finished 2\n",
      "Finished 4\n",
      "Finished 5\n",
      "Finished 11\n",
      "Finished 14\n",
      "Finished 17\n",
      "cluster is done.\n",
      "Finished Holiday\n",
      "Finished nan\n",
      "Finished Work Day\n",
      "Finished Additional\n",
      "Finished Event\n",
      "Finished Transfer\n",
      "Finished Bridge\n",
      "holiday_type is done.\n",
      "Finished 4\n",
      "Finished 3\n",
      "Finished 1\n",
      "Finished 2\n",
      "Finished 0\n",
      "City_Elevation_Category is done.\n",
      "Finished 3\n",
      "Finished 0\n",
      "Finished 1\n",
      "Finished 2\n",
      "City_Population_Category is done.\n",
      "Finished 4\n",
      "Finished 0\n",
      "Finished 1\n",
      "Finished 3\n",
      "Finished 2\n",
      "Finished 5\n",
      "City_Density_Category is done.\n",
      "Finished 2\n",
      "Finished 0\n",
      "Finished 1\n",
      "Finished 3\n",
      "City_Size_Category is done.\n"
     ]
    }
   ],
   "source": [
    "# --- Execute Pipeline --- #\n",
    "\n",
    "all_stores_df = all_stores_pipeline()"
   ]
  },
  {
   "cell_type": "markdown",
   "metadata": {
    "_cell_guid": "0ac3be10-e986-43ed-aa8b-f0f79179d739",
    "_uuid": "3e2a8e7c-2bd5-41f0-9d58-3798ec2aaf6e",
    "trusted": true
   },
   "source": [
    "# 1.3.3 Product Dataframes"
   ]
  },
  {
   "cell_type": "markdown",
   "metadata": {
    "_cell_guid": "c93979cd-a6b4-4bc9-82a9-b0ff50a8028a",
    "_uuid": "070256fe-b23a-4b03-9bd7-1df6e179176b",
    "trusted": true
   },
   "source": [
    "The last step of our variable creation phase, is to create 33 **product** dataframes. We create a pipeline that integrates both our **independant** and our **all stores** dataframes."
   ]
  },
  {
   "cell_type": "code",
   "execution_count": 29,
   "metadata": {
    "_cell_guid": "87495179-73d0-4097-b2e1-5e494e616ef7",
    "_uuid": "964f0f0d-73be-470f-a363-ae27ac021b2a",
    "collapsed": false,
    "trusted": true
   },
   "outputs": [],
   "source": [
    "def full_product_pipeline(family, independant_df=independant_df, all_stores_df=all_stores_df):\n",
    "\n",
    "    originaltrainFull = pd.read_csv('data/train.csv')\n",
    "    originaltest = pd.read_csv('data/test.csv')\n",
    "\n",
    "    multistore_product = create_multi_store_one_product_df(originaltrainFull, family)\n",
    "\n",
    "    # merge with test:\n",
    "    multistore_product_test = create_multi_store_one_product_df(originaltest, family)\n",
    "    multistore_product_test['sales'] = np.nan\n",
    "\n",
    "    del originaltrainFull\n",
    "    del originaltest\n",
    "\n",
    "    # take log of sales:\n",
    "    multistore_product['sales'] = np.log1p(multistore_product['sales']+1)\n",
    "\n",
    "    msp_full = pd.concat([multistore_product, multistore_product_test])\n",
    "\n",
    "    # reset index:\n",
    "    msp_full.reset_index(inplace=True, drop=True)\n",
    "\n",
    "    ######################\n",
    "    # Add Independant DF #\n",
    "    ######################\n",
    "\n",
    "    msp_full = pd.merge(msp_full, independant_df, how='left', on=['date'])\n",
    "\n",
    "    #####################\n",
    "    # Add All Stores DF #\n",
    "    #####################\n",
    "\n",
    "    msp_full = pd.merge(msp_full, all_stores_df, how='left', on=['date', 'store_nbr'])\n",
    "\n",
    "    ############################\n",
    "    # Add Earthquake Info      #\n",
    "    ############################\n",
    "\n",
    "    earthquake_day = [1 if x == '2016-04-16' else 0 for x in msp_full['date']]\n",
    "    earthquake_impact = [1 if (x > '2016-04-16') & (x < '2016-05-16') else 0 for x in msp_full['date']]\n",
    "\n",
    "    msp_full['earthquake_day'] = earthquake_day\n",
    "    msp_full['earthquake_impact'] = earthquake_impact\n",
    "\n",
    "    ############################\n",
    "    # Add School Info          #\n",
    "    ############################\n",
    "\n",
    "    school_preparation = [1 if (x > '2014-09-15') & (x < '2014-10-15') or (x > '2015-09-15') & (x < '2015-10-15')\n",
    "                          or (x > '2016-09-15') & (x < '2016-10-15') or (x > '2017-09-15') & (x < '2017-10-15')\n",
    "                          else 0 for x in msp_full['date']]\n",
    "\n",
    "    msp_full['school_preparation'] = school_preparation\n",
    "\n",
    "    #############################\n",
    "    # Clean DF before modelling #\n",
    "    #############################\n",
    "\n",
    "    msp_full.drop(['family', 'MonthOfTheYear'], axis=1, inplace=True)\n",
    "\n",
    "    return msp_full"
   ]
  },
  {
   "cell_type": "code",
   "execution_count": 32,
   "metadata": {
    "_cell_guid": "903323c8-653e-4294-82e9-57617711802f",
    "_uuid": "165b1372-1ae2-4231-a575-82f9e876b27f",
    "collapsed": false,
    "trusted": true
   },
   "outputs": [
    {
     "name": "stdout",
     "output_type": "stream",
     "text": [
      "Completed eda for AUTOMOTIVE\n",
      "Completed eda for BABY CARE\n",
      "Completed eda for BEAUTY\n",
      "Completed eda for BEVERAGES\n",
      "Completed eda for BOOKS\n",
      "Completed eda for BREADBAKERY\n",
      "Completed eda for CELEBRATION\n",
      "Completed eda for CLEANING\n",
      "Completed eda for DAIRY\n",
      "Completed eda for DELI\n",
      "Completed eda for EGGS\n",
      "Completed eda for FROZEN FOODS\n",
      "Completed eda for GROCERY I\n",
      "Completed eda for GROCERY II\n",
      "Completed eda for HARDWARE\n",
      "Completed eda for HOME AND KITCHEN I\n",
      "Completed eda for HOME AND KITCHEN II\n",
      "Completed eda for HOME APPLIANCES\n",
      "Completed eda for HOME CARE\n",
      "Completed eda for LADIESWEAR\n",
      "Completed eda for LAWN AND GARDEN\n",
      "Completed eda for LINGERIE\n",
      "Completed eda for LIQUOR,WINE,BEER\n",
      "Completed eda for MAGAZINES\n",
      "Completed eda for MEATS\n",
      "Completed eda for PERSONAL CARE\n",
      "Completed eda for PET SUPPLIES\n",
      "Completed eda for PLAYERS AND ELECTRONICS\n",
      "Completed eda for POULTRY\n",
      "Completed eda for PREPARED FOODS\n",
      "Completed eda for PRODUCE\n",
      "Completed eda for SCHOOL AND OFFICE SUPPLIES\n",
      "Completed eda for SEAFOOD\n"
     ]
    }
   ],
   "source": [
    "# --- Execute Full Product Pipeline for each product --- #\n",
    "\n",
    "# List all product families:\n",
    "\n",
    "list_of_families = ['AUTOMOTIVE', 'BABY CARE', 'BEAUTY', 'BEVERAGES', 'BOOKS',\n",
    "                    'BREAD/BAKERY', 'CELEBRATION', 'CLEANING', 'DAIRY', 'DELI', 'EGGS',\n",
    "                    'FROZEN FOODS', 'GROCERY I', 'GROCERY II', 'HARDWARE',\n",
    "                    'HOME AND KITCHEN I', 'HOME AND KITCHEN II', 'HOME APPLIANCES',\n",
    "                    'HOME CARE', 'LADIESWEAR', 'LAWN AND GARDEN', 'LINGERIE',\n",
    "                    'LIQUOR,WINE,BEER', 'MAGAZINES', 'MEATS', 'PERSONAL CARE',\n",
    "                    'PET SUPPLIES', 'PLAYERS AND ELECTRONICS', 'POULTRY',\n",
    "                    'PREPARED FOODS', 'PRODUCE', 'SCHOOL AND OFFICE SUPPLIES',\n",
    "                    'SEAFOOD']\n",
    "\n",
    "# Create new .csv for each product family:\n",
    "\n",
    "for x in list_of_families:\n",
    "\n",
    "    this_df = full_product_pipeline(x)\n",
    "\n",
    "    if x == 'BREAD/BAKERY':\n",
    "\n",
    "            x = 'BREADBAKERY'\n",
    "\n",
    "    print('Completed eda for ' + str(x))\n",
    "    this_df.to_csv('data/'+str(x)+'.csv', index=False)"
   ]
  },
  {
   "cell_type": "markdown",
   "metadata": {
    "_cell_guid": "c5c9d4a5-7f29-4f44-9fa8-f00ce7c8092b",
    "_uuid": "b24e3ab2-1a7a-48ac-b886-c2c939d58df8",
    "trusted": true
   },
   "source": [
    "For modelling **LGBMR** seem to give the best results. \n",
    "\n",
    "You can test the model either on a validation set or on several cross-validation folds. \n",
    "Mainly for speed, I opted to test on just one validation set 16 days before the actual prediction period.\n",
    "This is not ideal and might to overfit a bit as it is just one testset, but since the validation set is close to the real set it should be somewhat representative of our kaggle test.\n",
    "\n",
    "We create some supporting functions to support our modelling journey:\n",
    "\n",
    "- **scorethis_rmsle**: this function scores a prediction with a set of ground truths in the same way this competition is being scored by kaggle (using rmsle).\n",
    "\n",
    "- **create_validation**: this creates our validation test and train sets, together with the ground truths. Respectively train, train_y, test and test_y. If validation=False, then this function creates train, train_y and test that we can use for our submission.\n",
    "\n",
    "- **lgbmr_run**: this function runs our chosen lgbmr model. It has two modes: 'validation' if you want to run on the validation set or 'submission' if you want to run it for a kaggle submission. \n",
    "\n",
    "- **execute_validation**: executes the chosen model on each of the product dataframes."
   ]
  },
  {
   "cell_type": "code",
   "execution_count": null,
   "metadata": {
    "_cell_guid": "cfa1d3c9-5833-4a21-bedb-acb7f72538ef",
    "_uuid": "9fae144b-9cba-4490-ade7-2d537c0937ad",
    "collapsed": false,
    "trusted": true
   },
   "outputs": [],
   "source": [
    "from sklearn.preprocessing import MinMaxScaler\n",
    "from lightgbm import LGBMRegressor\n",
    "\n",
    "sample_submission = pd.read_csv('/kaggle/input/store-sales-time-series-forecasting/sample_submission.csv')"
   ]
  },
  {
   "cell_type": "code",
   "execution_count": null,
   "metadata": {
    "_cell_guid": "7f2ef083-7194-4492-82c9-abedb2c566b7",
    "_uuid": "4f166db2-dfc9-4846-bc88-acdf03887a12",
    "collapsed": false,
    "trusted": true
   },
   "outputs": [],
   "source": [
    "def scorethis_rmsle(prediction_list, y_list):\n",
    "\n",
    "    scorelist = list()\n",
    "\n",
    "    for x in range(prediction_list.__len__()):\n",
    "\n",
    "\n",
    "        log_score_x = np.abs(np.abs(prediction_list[x]) - np.abs(y_list[x]))\n",
    "        \n",
    "        try:\n",
    "            [scorelist.append(y) for y in log_score_x.values]\n",
    "        except:\n",
    "            scorelist.append(log_score_x)\n",
    "\n",
    "    score_array = np.array(scorelist)\n",
    "\n",
    "    rmsle = np.sqrt(np.mean(score_array**2)) # sqrt of mean of power of difference of the logs\n",
    "    rmsle = np.round(rmsle, 3)\n",
    "\n",
    "    return rmsle"
   ]
  },
  {
   "cell_type": "code",
   "execution_count": null,
   "metadata": {
    "_cell_guid": "fc5393b2-964a-437c-937e-0f29acbf01e1",
    "_uuid": "2e028388-5742-4739-942b-3453b05c2aba",
    "collapsed": false,
    "trusted": true
   },
   "outputs": [],
   "source": [
    "def create_validation(this_family_df, validation=True):\n",
    "    \n",
    "    if validation is True:\n",
    "    \n",
    "        this_family_df = this_family_df[:-864]\n",
    "        # Remove the 864 top submission rows if it is for validation\n",
    "    \n",
    "    this_family_sales = this_family_df['sales']\n",
    "\n",
    "    this_family_df.drop(['sales', 'date'], axis=1, inplace=True)\n",
    "\n",
    "    ########################\n",
    "    # Scale Data           #\n",
    "    ########################\n",
    "\n",
    "    scaler = MinMaxScaler()\n",
    "    this_family_df[this_family_df.columns] = scaler.fit_transform(this_family_df[this_family_df.columns])\n",
    "\n",
    "    ########################\n",
    "    # Split Train and Test #\n",
    "    ########################\n",
    "\n",
    "    test = this_family_df.iloc[-864:]\n",
    "    test_y = this_family_sales.iloc[-864:]\n",
    "\n",
    "    train = this_family_df.iloc[:-864]\n",
    "    train_y = this_family_sales.iloc[:-864]\n",
    "\n",
    "    return train, train_y, test, test_y"
   ]
  },
  {
   "cell_type": "code",
   "execution_count": null,
   "metadata": {
    "_cell_guid": "d37e337e-01b8-48be-83b1-2df290c5b4ca",
    "_uuid": "2669e022-0f5f-4bc6-a13f-0c918ec7b78a",
    "collapsed": false,
    "trusted": true
   },
   "outputs": [],
   "source": [
    "def lgbmr_run(train, train_y, test, test_y,\n",
    "           validation=True):\n",
    "    \n",
    "    #################\n",
    "    # Create Model  #\n",
    "    #################\n",
    "\n",
    "    lgbmr_model = LGBMRegressor(\n",
    "        colsample_bytree=0.7,\n",
    "        learning_rate=0.055,\n",
    "        min_child_samples=10,\n",
    "        num_leaves=19,\n",
    "        objective='regression',\n",
    "        n_estimators=1000,\n",
    "        n_jobs=4,\n",
    "        random_state=337)\n",
    "\n",
    "    #################\n",
    "    # Execute LGBMR #\n",
    "    #################\n",
    "\n",
    "    lgbmr_model.fit(train, train_y)\n",
    "    lgbmr_pred = lgbmr_model.predict(test).tolist()\n",
    "    lgbmr_pred = [round(x, 2) for x in lgbmr_pred]\n",
    "    \n",
    "    if validation == True:\n",
    "        \n",
    "        # validation set also has ground truths:\n",
    "        test_y = test_y.to_list()\n",
    "\n",
    "        return lgbmr_pred, test_y\n",
    "\n",
    "    else:\n",
    "\n",
    "        return lgbmr_pred"
   ]
  },
  {
   "cell_type": "code",
   "execution_count": null,
   "metadata": {
    "_cell_guid": "d7149f7f-0625-4a9d-b8d2-7ff6d0f873b3",
    "_uuid": "f357e33d-4d39-4c5a-9b84-6884e6a2b141",
    "collapsed": false,
    "trusted": true
   },
   "outputs": [],
   "source": [
    "def execute_validation(thisfunc):\n",
    "\n",
    "    double_list_of_predictions = []\n",
    "    double_list_of_ground_truths = []\n",
    "\n",
    "    for x in list_of_families: # 33\n",
    "        \n",
    "        if x == 'BREAD/BAKERY':\n",
    "\n",
    "            x = 'BREADBAKERY'\n",
    "            # Otherwise would create an error searching for the BREAD/ directory instead of the file\n",
    "\n",
    "        print('Evaluating '+str(x)+'...')\n",
    "        \n",
    "        this_df = pd.read_csv('/kaggle/working/' + str(x) + '.csv')\n",
    "\n",
    "        train, train_y, test, test_y = create_validation(this_df)\n",
    "        pred, y = thisfunc(train, train_y, test, test_y, validation=True)\n",
    "        \n",
    "        if x == 'BOOKS':\n",
    "\n",
    "            zero_list = []\n",
    "\n",
    "            for g in range(864):\n",
    "\n",
    "                zero_list.append(0.6931471805599453) \n",
    "                # this will be exactly 0 when we transform our predictions again\n",
    "                # to before we did log(sales +1)\n",
    "\n",
    "            double_list_of_predictions.append(zero_list)\n",
    "            double_list_of_ground_truths.append(y) \n",
    "            \n",
    "        else:\n",
    "            \n",
    "            double_list_of_predictions.append(pred) # 33 * [864]\n",
    "            double_list_of_ground_truths.append(y) # 33 * [864]\n",
    "\n",
    "    list_of_predictions = list()\n",
    "    list_of_ground_truths = list()\n",
    "\n",
    "    for x in double_list_of_predictions:\n",
    "        for y in x:\n",
    "            list_of_predictions.append(y) # unpack 33 * 864\n",
    "\n",
    "    for x in double_list_of_ground_truths:\n",
    "        for z in x:\n",
    "            list_of_ground_truths.append(z) # unpack 33 * 864\n",
    "\n",
    "    return list_of_predictions, list_of_ground_truths"
   ]
  },
  {
   "cell_type": "code",
   "execution_count": null,
   "metadata": {
    "_cell_guid": "ec945e43-98a9-4108-b041-39e7083ff8c7",
    "_uuid": "085a9c0a-ca8a-4b44-ad02-10a286cb8c45",
    "collapsed": false,
    "trusted": true
   },
   "outputs": [],
   "source": [
    "# --- Execute LGBMR Model On Validation Set --- #\n",
    "\n",
    "# Run this code if you want to do a validation test + see the score:\n",
    "\n",
    "# list_of_lgbmr_predictions, list_of_ground_truths = execute_validation(lgbmr_run)\n",
    "# scorethis_rmsle(list_of_lgbmr_predictions, list_of_ground_truths)"
   ]
  },
  {
   "cell_type": "markdown",
   "metadata": {
    "_cell_guid": "f96baeb3-0dad-4670-a5bc-fee34c8a6a21",
    "_uuid": "10b2eb0d-8fed-4691-8b81-42924fa766ec",
    "trusted": true
   },
   "source": [
    "Some observations after more testing:\n",
    "\n",
    "- This scores 0.337 which is the best score I have gotten on the validation set\n",
    "- other hyperparameters on the same model score +0.338\n",
    "- other models score 0.358 (XGB) to 0.423 (Lasso) on the validation\n",
    "- simple stacking didn't improve the results \n",
    "- SVR takes to long without any variable selection method, so this hasn't been tested on this dataset yet"
   ]
  },
  {
   "cell_type": "markdown",
   "metadata": {
    "_cell_guid": "43175202-c605-42d8-a4e1-e3af9d6478bb",
    "_uuid": "d6472822-487a-4eeb-b6a0-b95a79042798",
    "trusted": true
   },
   "source": [
    "# 2.2 Kaggle Submission"
   ]
  },
  {
   "cell_type": "markdown",
   "metadata": {
    "_cell_guid": "3d916b30-d9a1-4cb3-a8bf-eb395b36486f",
    "_uuid": "c5802b16-6f78-4ea7-b8a4-ca4244093754",
    "trusted": true
   },
   "source": [
    "Now we are going to execute the same **LGBMR** model we've tested, on our kaggle submission set."
   ]
  },
  {
   "cell_type": "code",
   "execution_count": null,
   "metadata": {
    "_cell_guid": "5e765710-cbdd-4e1d-8b1c-6a0c646bc0c9",
    "_uuid": "3d648ec8-3f8d-4895-8512-59510fbf3e90",
    "collapsed": false,
    "trusted": true
   },
   "outputs": [],
   "source": [
    "def execute_submission(thisfunc):\n",
    "\n",
    "    list_of_predictions = []\n",
    "\n",
    "    for x in list_of_families:\n",
    "        \n",
    "        if x == 'BREAD/BAKERY':\n",
    "\n",
    "            x = 'BREADBAKERY'\n",
    "            # Otherwise would create an error searching for the BREAD/ directory instead of the file\n",
    "\n",
    "        print('Evaluating '+str(x)+'...')\n",
    "        this_df = pd.read_csv('/kaggle/working/' + str(x) + '.csv')\n",
    "        \n",
    "        if x == 'BOOKS':\n",
    "\n",
    "            zero_list = []\n",
    "\n",
    "            for g in range(864):\n",
    "\n",
    "                zero_list.append(0.6931471805599453) \n",
    "                # this will be exactly 0 when we transform our predictions again\n",
    "                # to before we did log(sales +1)\n",
    "\n",
    "            list_of_predictions.append(zero_list)\n",
    "\n",
    "        else:\n",
    "    \n",
    "            train, train_y, test, test_y = create_validation(this_df, validation=False)\n",
    "            pred = thisfunc(train, train_y, test, test_y=None, validation=False)\n",
    "            list_of_predictions.append(pred)\n",
    "    \n",
    "    ###############################\n",
    "    # Put Back In Submission Form # \n",
    "    ###############################\n",
    "    \n",
    "    restructured_predictions = list()\n",
    "\n",
    "    for y in range(864):\n",
    "\n",
    "        for z in range(33):\n",
    "            restructured_predictions.append(list_of_predictions[z][y])\n",
    "\n",
    "    restructured_predictions = np.expm1(restructured_predictions) - 1\n",
    "\n",
    "    return restructured_predictions"
   ]
  },
  {
   "cell_type": "code",
   "execution_count": null,
   "metadata": {
    "_cell_guid": "9bf6bc64-93ae-4daa-a0d2-966431831e5a",
    "_uuid": "c6343343-ea67-42ec-b90d-cdc719afd8df",
    "collapsed": false,
    "trusted": true
   },
   "outputs": [],
   "source": [
    "# --- Execute Submission --- #\n",
    "\n",
    "restructured_predictions = execute_submission(lgbmr_run)\n",
    "sample_submission['sales'] = restructured_predictions\n",
    "\n",
    "# Convert some (slightly) negative predictions to a zero prediction:\n",
    "sample_submission['sales'] = [0 if x < 0 else x for x in sample_submission['sales']]\n",
    "\n",
    "sample_submission.to_csv('/kaggle/working/submission.csv', index=False)"
   ]
  },
  {
   "cell_type": "markdown",
   "metadata": {
    "_cell_guid": "ba908d99-8a3a-4617-b017-5cbd3526aa6b",
    "_uuid": "ac0e5720-2116-4e5f-9a6d-9fef04c1c60e",
    "trusted": true
   },
   "source": [
    "Thanks for reading,\n",
    "\n",
    "\n",
    "- **If you enjoyed this notebook or if you learned something, a simple upvote would be greatly appreciated.**\n",
    "\n",
    "- **If you find a way to improve on this notebook, let me know in the comments !**\n",
    "\n",
    "\n",
    "Arnout"
   ]
  }
 ],
 "metadata": {
  "kernelspec": {
   "display_name": "store-sales-forecasting",
   "language": "python",
   "name": "python3"
  },
  "language_info": {
   "codemirror_mode": {
    "name": "ipython",
    "version": 3
   },
   "file_extension": ".py",
   "mimetype": "text/x-python",
   "name": "python",
   "nbconvert_exporter": "python",
   "pygments_lexer": "ipython3",
   "version": "3.11.0 (main, Aug 19 2023, 16:04:05) [Clang 14.0.3 (clang-1403.0.22.14.1)]"
  },
  "vscode": {
   "interpreter": {
    "hash": "10be6cc699337bf8b5cbed62d06f94bc2b59a8719b3d49a6b4c35136cc035c2b"
   }
  }
 },
 "nbformat": 4,
 "nbformat_minor": 4
}
